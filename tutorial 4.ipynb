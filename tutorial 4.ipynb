{
 "cells": [
  {
   "cell_type": "code",
   "execution_count": 1,
   "metadata": {
    "collapsed": true
   },
   "outputs": [
    {
     "name": "stdout",
     "output_type": "stream",
     "text": [
      "[6072.821755864253 6212.139658686918 5733.013710554186 5315.100085311233 5815.789015918853 5551.303257250125 5732.390701251013 6196.709270129686 5919.509313853355 5782.478204847661; 6201.519120619368 6346.5587975058215 5864.043039181654 5422.78043772892 5924.645743634979 5713.3136201590105 5848.200348686486 6375.540434050136 6091.846632548068 6000.017082043266; 6176.360269475095 6324.249641249953 5861.119431513049 5416.791944638067 5907.306932002663 5694.2721056233895 5818.551473736374 6360.497866696497 6027.141545767248 5922.487763720833; 6013.223836127469 6204.4189411144625 5731.2188426568 5325.270694463312 5821.13390628404 5542.62476897952 5691.526112731143 6196.530025128634 5905.344568230225 5783.978588589069; 6156.221902779622 6346.65834268605 5869.218780808484 5413.698227221178 5905.437584903763 5695.619206952284 5825.740596857276 6357.662069934338 6050.152671446383 5916.648252498616; 6146.485074104129 6301.680000429027 5821.132913696364 5398.8803283811785 5894.497521588974 5648.751484494279 5780.573625615036 6316.737846839195 6014.7925240297545 5937.098569654762; 6318.789145425309 6460.32508410786 5938.463157838921 5525.747682962191 6061.202073572232 5724.420864112356 5939.661723587546 6428.330260991881 6152.981231823916 6052.997396096304; 6040.580426930586 6211.34722227831 5747.255102028332 5322.1879270092995 5801.855576529122 5557.738167580101 5696.977114262665 6217.284644946697 5925.685636287872 5800.14133864287; 6495.078917674115 6668.928830588951 6192.403276766387 5692.203023403887 6209.196785516781 5979.297617024513 6123.827551015949 6684.401618757698 6370.124632342606 6244.034413460171; 6204.013033047071 6388.060604772382 5869.711890489233 5451.068638417693 5978.630762236846 5710.887801080228 5881.127883398701 6388.905796365573 6068.7809044845535 5993.582236134967]"
     ]
    }
   ],
   "source": [
    "using LinearAlgebra\n",
    "include(\"ncon.jl\");"
   ]
  },
  {
   "cell_type": "markdown",
   "metadata": {},
   "source": [
    "# Multi-stage tensor decomposition"
   ]
  },
  {
   "cell_type": "code",
   "execution_count": 8,
   "metadata": {},
   "outputs": [],
   "source": [
    "##### Ex4.1(b): multi-stage decomposition\n",
    "d = 5; # local dimension\n",
    "chi = 3; # max internal dimension\n",
    "H0 = reshape(sqrt.(1:d^7),d,d,d,d,d,d,d); # initial tensor ANY SPECIFIC REASON TO CHOOSE SUCH A TENSOR?"
   ]
  },
  {
   "cell_type": "code",
   "execution_count": 9,
   "metadata": {},
   "outputs": [],
   "source": [
    "# first decomposition\n",
    "utemp,stemp,vtemp = svd(reshape(H0,d^2,d^5));\n",
    "U0 = reshape(utemp[:,1:chi],d,d,chi);\n",
    "H1 = reshape(diagm(0 => stemp[1:chi])*vtemp[:,1:chi]',chi,d,d,d,d,d);"
   ]
  },
  {
   "cell_type": "code",
   "execution_count": 10,
   "metadata": {},
   "outputs": [
    {
     "data": {
      "text/plain": [
       "((25, 3), (5, 5, 3))"
      ]
     },
     "execution_count": 10,
     "metadata": {},
     "output_type": "execute_result"
    }
   ],
   "source": [
    "size(utemp[:,1:chi]), size(U0)"
   ]
  },
  {
   "cell_type": "code",
   "execution_count": null,
   "metadata": {},
   "outputs": [],
   "source": [
    "# second decomposition\n",
    "# IMPORTANT STEP TO UNDERSTAND\n",
    "utemp,stemp,vtemp = svd(reshape(permutedims(H1,[2,3,1,4,5,6]),d^2,chi*d^3));\n",
    "U1 = reshape(utemp[:,1:chi],d,d,chi);\n",
    "H2 = permutedims(reshape(diagm(0 => stemp[1:chi])*vtemp[:,1:chi]',chi,chi,d,d,d),[2,1,3,4,5]);"
   ]
  },
  {
   "cell_type": "code",
   "execution_count": null,
   "metadata": {},
   "outputs": [],
   "source": [
    "# third decomposition\n",
    "utemp,stemp,vtemp = svd(reshape(H2,chi^2,d^3));\n",
    "U2 = reshape(utemp[:,1:chi],chi,chi,chi);\n",
    "H3 = reshape(diagm(0 => stemp[1:chi])*vtemp[:,1:chi]',chi,d,d,d);"
   ]
  },
  {
   "cell_type": "code",
   "execution_count": null,
   "metadata": {},
   "outputs": [],
   "source": [
    "# fourth decomposition\n",
    "utemp,stemp,vtemp = svd(reshape(H3,chi*d,d^2));\n",
    "V3 = reshape(conj(vtemp[:,1:chi]),d,d,chi);\n",
    "H4 = reshape(utemp[:,1:chi]*diagm(0 => stemp[1:chi]),chi,d,chi);"
   ]
  },
  {
   "cell_type": "code",
   "execution_count": null,
   "metadata": {},
   "outputs": [],
   "source": [
    "# check result\n",
    "H0recovered = ncon(Any[U0,U1,U2,V3,H4],Any[[-1,-2,1],[-3,-4,2],[1,2,3],[-6,-7,4],[3,-5,4]]);\n",
    "totErr = norm(H0 - H0recovered) / norm(H0)"
   ]
  },
  {
   "cell_type": "markdown",
   "metadata": {},
   "source": [
    "# Center of orthogonality (link centered)"
   ]
  },
  {
   "cell_type": "code",
   "execution_count": 22,
   "metadata": {},
   "outputs": [],
   "source": [
    "##### Ex4.2(a): set B-C link as center of orthogonality\n",
    "d = 5; # index dimension\n",
    "A = rand(d,d,d);\n",
    "B = rand(d,d,d);\n",
    "C = rand(d,d,d);\n",
    "Sig = Matrix{Float64}(I, d, d); # initial link matrix"
   ]
  },
  {
   "cell_type": "code",
   "execution_count": 23,
   "metadata": {},
   "outputs": [],
   "source": [
    "# generate gauge change matrices\n",
    "rho1 = ncon(Any[A,A,B,B],Any[[1,2,3],[1,2,4],[3,5,-1],[4,5,-2]]);\n",
    "rho2 = ncon(Any[C,C],Any[[-1,1,2],[-2,1,2]]);\n",
    "d1, u1 = eigen(rho1); sq_d1 = sqrt.(abs.(d1));\n",
    "d2, u2 = eigen(rho2); sq_d2 = sqrt.(abs.(d2));\n",
    "X1 = u1*diagm(0 => sq_d1)*u1'; X1inv = u1*diagm(0 => 1 ./sq_d1)*u1';\n",
    "X2 = u2*diagm(0 => sq_d2)*u2'; X2inv = u2*diagm(0 => 1 ./sq_d2)*u2';"
   ]
  },
  {
   "cell_type": "code",
   "execution_count": 24,
   "metadata": {},
   "outputs": [],
   "source": [
    "# implement gauge change\n",
    "Bprime = ncon(Any[B,X1inv],Any[[-1,-2,1],[1,-3]]);\n",
    "Cprime = ncon(Any[X2inv,C],Any[[-1,1],[1,-2,-3]]);\n",
    "Sig_prime = X1*Sig*X2;"
   ]
  },
  {
   "cell_type": "code",
   "execution_count": 25,
   "metadata": {},
   "outputs": [
    {
     "data": {
      "text/plain": [
       "1.5866748500121967e-15"
      ]
     },
     "execution_count": 25,
     "metadata": {},
     "output_type": "execute_result"
    }
   ],
   "source": [
    "# check result\n",
    "H0 = ncon(Any[A,B,C],Any[[-1,-2,1],[1,-3,2],[2,-4,-5]]);\n",
    "H1 = ncon(Any[A,Bprime,Sig_prime,Cprime],Any[[-1,-2,1],[1,-3,2],[2,3],[3,-4,-5]]);\n",
    "totErr = norm(H0 - H1) / norm(H0)"
   ]
  },
  {
   "cell_type": "code",
   "execution_count": 26,
   "metadata": {},
   "outputs": [],
   "source": [
    "##### Ex4.2(b): setting a link as a center of orthogonality\n",
    "##### (continues from Ex4.2(a))\n",
    "\n",
    "# perform unitary gauge change to diagonalize link matrix\n",
    "utemp, Sig_pp, vtemp = svd(Sig_prime);\n",
    "Bpp = ncon(Any[Bprime,utemp],Any[[-1,-2,1],[1,-3]]);\n",
    "Cpp = ncon(Any[Cprime,vtemp],Any[[1,-2,-3],[1,-1]]);\n",
    "Cpp = ncon(Any[vtemp,Cprime],Any[[1,-1],[1,-2,-3]]);"
   ]
  },
  {
   "cell_type": "code",
   "execution_count": 27,
   "metadata": {},
   "outputs": [
    {
     "data": {
      "text/plain": [
       "1.285302282737601e-15"
      ]
     },
     "execution_count": 27,
     "metadata": {},
     "output_type": "execute_result"
    }
   ],
   "source": [
    "# check result\n",
    "H2 = ncon(Any[A,Bpp,diagm(0 => Sig_pp),Cpp],Any[[-1,-2,1],[1,-3,2],[2,3],[3,-4,-5]]);\n",
    "totErr = norm(H0 - H2) / norm(H0)"
   ]
  },
  {
   "cell_type": "code",
   "execution_count": 28,
   "metadata": {},
   "outputs": [],
   "source": [
    "##### Ex4.2(c): equivalence of center of orthogonality and SVD\n",
    "##### (continues from Ex4.2(b))\n",
    "H = ncon(Any[A,B,C],Any[[-1,-2,1],[1,-3,2],[2,-4,-5]]);\n",
    "utemp,stemp,vtemp = svd(reshape(H,d^3,d^2));\n",
    "UH = reshape(utemp[:,1:d],d,d,d,d);\n",
    "SH = diagm(0 => stemp[1:d]);\n",
    "VH = reshape(vtemp[:,1:d]',d,d,d);"
   ]
  },
  {
   "cell_type": "code",
   "execution_count": 29,
   "metadata": {},
   "outputs": [
    {
     "data": {
      "text/plain": [
       "1.9025207034823104e-14"
      ]
     },
     "execution_count": 29,
     "metadata": {},
     "output_type": "execute_result"
    }
   ],
   "source": [
    "# compare with previous tensors from orthonormal form\n",
    "ErrU = norm(abs.(UH[:]) - abs.(reshape(ncon(Any[A,Bpp],Any[[-1,-2,1],[1,-3,-4]]),d^4)))\n",
    "ErrS = norm(diag(SH) - Sig_pp)\n",
    "ErrV = norm(abs.(VH[:]) - abs.(Cpp[:]))\n",
    "# all three results should be vanishingly small!!!"
   ]
  },
  {
   "cell_type": "markdown",
   "metadata": {},
   "source": [
    "# Exercise 4"
   ]
  },
  {
   "cell_type": "code",
   "execution_count": 32,
   "metadata": {},
   "outputs": [],
   "source": [
    "# pb.4 : Generating the tensor H with the element-wise definintion given\n",
    "d = 6 # defining the local dimension\n",
    "A1 = zeros(d,d,d,d,d)\n",
    "for i = 1:d\n",
    "    for j = 1:d\n",
    "        for k = 1:d\n",
    "            for l = 1:d\n",
    "                for m = 1:d\n",
    "                    A1[i,j,k,l,m] = sqrt(i+2*j+3*k+4*l+5*m)\n",
    "                end\n",
    "            end\n",
    "        end\n",
    "    end\n",
    "end\n",
    "\n",
    "chi = 4;"
   ]
  },
  {
   "cell_type": "code",
   "execution_count": 33,
   "metadata": {},
   "outputs": [
    {
     "data": {
      "text/plain": [
       "638.9366165747585"
      ]
     },
     "execution_count": 33,
     "metadata": {},
     "output_type": "execute_result"
    }
   ],
   "source": [
    "# a).\n",
    "H = A1\n",
    "H_norm = norm(H)\n",
    "H1 = H/H_norm;\n",
    "H_norm"
   ]
  },
  {
   "cell_type": "code",
   "execution_count": 36,
   "metadata": {},
   "outputs": [
    {
     "data": {
      "text/plain": [
       "1.3381420236014653e-7"
      ]
     },
     "execution_count": 36,
     "metadata": {},
     "output_type": "execute_result"
    }
   ],
   "source": [
    "# b). Multi-stage tensor decomposition\n",
    "# first we do the svd\n",
    "u,s,vt = svd(reshape(H1, d^2, d^3)); A = reshape(u[:,1:chi], d,d,chi);\n",
    "\n",
    "H_temp = reshape(diagm(s[1:chi])*vt[:,1:chi]', chi, d,d,d);\n",
    "\n",
    "# now we need to do the svd again\n",
    "u, s, vt = svd(reshape(H_temp, chi*d, d^2)); B = reshape(u[:, 1:chi], chi,d,chi);\n",
    "\n",
    "H_temp = reshape(diagm(s[1:chi])*vt[:,1:chi]', chi, d,d);\n",
    "\n",
    "C = reshape(H_temp, chi,d,d);\n",
    "\n",
    "# now we contract the tensors using the ncon function to obtain H1\n",
    "H2 = ncon(Any[A,B,C], Any[[-1,-2,1], [1,-3,2],[2,-4,-5]]);\n",
    "\n",
    "norm(H1-H2)"
   ]
  },
  {
   "cell_type": "code",
   "execution_count": 37,
   "metadata": {},
   "outputs": [
    {
     "name": "stdout",
     "output_type": "stream",
     "text": [
      "[0.9999585263044181, 0.009107102023832856, 7.975716211198103e-5, 1.6129933328501848e-6]\n",
      "[0.9999585263044184, 0.009107102023832848, 7.975716211195064e-5, 1.6129933326826628e-6]\n"
     ]
    },
    {
     "data": {
      "text/plain": [
       "3.7415990057376464e-16"
      ]
     },
     "execution_count": 37,
     "metadata": {},
     "output_type": "execute_result"
    }
   ],
   "source": [
    "# c). Creating a center of orthogonality\n",
    "Sig = Matrix{Float64}(I, chi, chi); # initial link matrix keeping in mind the truncation. \n",
    "\n",
    "rho1 = ncon(Any[A,A], [[1,2, -2],[1,2, -1]]);\n",
    "rho2 = ncon(Any[B,C,B,C], Any[[-2,1,2], [2,3,4], [-1,1,5], [5,3,4]]);\n",
    "\n",
    "# performing the eigen-decomposition\n",
    "d1, u1 = eigen(rho1) ; sq_d1 = sqrt.(abs.(d1));\n",
    "d2, u2 = eigen(rho2) ; sq_d2 = sqrt.(abs.(d2));\n",
    "\n",
    "# calculating X and X^{-1}\n",
    "X1 = u1*diagm(0 => sq_d1)*u1'; X1inv = u1*diagm(0 => (1 ./sq_d1))*u1';\n",
    "X2 = u2*diagm(0 => sq_d2)*u2'; X2inv = u2*diagm(0 => 1 ./sq_d2)*u2';\n",
    "\n",
    "# Now we want to implement guage change\n",
    "Sig_prime = X1*Sig*X2;\n",
    "A_prime = ncon(Any[A, X1inv], Any[[-1,-2,1], [1, -3]]);\n",
    "B_prime = ncon(Any[X2inv, B], [[-1,1], [1,-2,-3]]);\n",
    "\n",
    "\n",
    "# Now we want to diagonalise Sig_prime\n",
    "# perform unitary gauge change to diagonalize link matrix\n",
    "utemp, Sig_pp, vtemp = svd(Sig_prime);\n",
    "\n",
    "App = ncon(Any[A_prime,utemp],Any[[-1,-2,1],[1,-3]]);\n",
    "Bpp = ncon(Any[B_prime,vtemp],Any[[1,-2,-3],[1,-1]]);\n",
    "\n",
    "H3 = ncon(Any[App,diagm(Sig_pp),Bpp,C], Any[[-1,-2,1], [1,2], [2,-3,3], [3,-4,-5]]);\n",
    "println(Sig_pp)\n",
    "\n",
    "# Now we will perform the svd of H2 and see if \n",
    "# we get the same singulsr values\n",
    "\n",
    "u,s_values, v = svd(reshape(H2, d^2, d^3));\n",
    "println(s_values[1:chi])\n",
    "\n",
    "norm(Sig_pp-s_values[1:chi])"
   ]
  },
  {
   "cell_type": "markdown",
   "metadata": {},
   "source": [
    "# Solutions from the tutorials"
   ]
  },
  {
   "cell_type": "code",
   "execution_count": null,
   "metadata": {},
   "outputs": [],
   "source": [
    "# (b) multi-stage decomposition\n",
    "chi = 4;\n",
    "utemp,stemp,vtemp = svd(reshape(H1,d^2,d^3));\n",
    "A = reshape(utemp[:,1:chi],d,d,chi);\n",
    "Htemp = reshape(diagm(0 => stemp[1:chi])*(vtemp[:,1:chi]'),chi,d,d,d);\n",
    "utemp,stemp,vtemp = svd(reshape(Htemp,chi*d,d^2));\n",
    "B = reshape(utemp[:,1:chi],chi,d,chi);\n",
    "C = reshape(diagm(0 => stemp[1:chi])*(vtemp[:,1:chi]'),chi,d,d);\n",
    "# check accuracy\n",
    "H2 = ncon(Any[A,B,C],Any[[-1,-2,1],[1,-3,2],[2,-4,-5]]);\n",
    "TrErr = norm(H1-H2)"
   ]
  },
  {
   "cell_type": "code",
   "execution_count": null,
   "metadata": {},
   "outputs": [],
   "source": [
    "# (c) center of orthogonality at a link\n",
    "# compute gauge change between A-B tensors\n",
    "SigAB = Matrix{Float64}(I, chi, chi);\n",
    "rhoL = ncon(Any[A,A],Any[[1,2,-1],[1,2,-2]]);\n",
    "rhoR = ncon(Any[B,B,C,C],Any[[-1,1,2],[-2,1,3],[2,4,5],[3,4,5]]);\n",
    "dL,uL = eigen(rhoL); sq_dL = sqrt.(abs.(dL));\n",
    "dR,uR = eigen(rhoR); sq_dR = sqrt.(abs.(dR));\n",
    "XL = uL*diagm(0 => sq_dL)*uL'; XLinv = uL*diagm(0 => 1 ./sq_dL)*uL';\n",
    "XR = uR*diagm(0 => sq_dR)*uR'; XRinv = uR*diagm(0 => 1 ./sq_dR)*uR';\n",
    "utemp,SigABp,vtemp = svd(XL*SigAB*XR);\n",
    "Ap = ncon(Any[A,XLinv*utemp],Any[[-1,-2,1],[1,-3]]);\n",
    "Bp = ncon(Any[B,vtemp'*XRinv],Any[[1,-2,-3],[-1,1]]);\n",
    "\n",
    "# difference in singular values between SVD:\n",
    "~,svalues,~ = svd(reshape(H2,d^2,d^3));\n",
    "Serr = norm(svalues[1:chi] - SigABp)"
   ]
  }
 ],
 "metadata": {
  "kernelspec": {
   "display_name": "Julia 1.5.0",
   "language": "julia",
   "name": "julia-1.5"
  },
  "language_info": {
   "file_extension": ".jl",
   "mimetype": "application/julia",
   "name": "julia",
   "version": "1.5.0"
  }
 },
 "nbformat": 4,
 "nbformat_minor": 2
}
