{
 "cells": [
  {
   "cell_type": "code",
   "execution_count": 1,
   "metadata": {
    "collapsed": true
   },
   "outputs": [
    {
     "name": "stdout",
     "output_type": "stream",
     "text": [
      "[5873.482917029676 4961.818712197332 5700.8286434847205 6023.467046922934 5687.083053488969 6090.270039107518 5978.1159471456485 6277.025694680517 5879.0500346349845 5988.104161161598; 5738.452082568745 4882.576669036246 5567.09864259022 5902.997453761836 5500.791896801787 5964.072347639627 5853.012610685473 6146.791653115772 5786.5839089704195 5804.4969217999005; 5889.444639232869 5035.494399204535 5758.228422357119 6139.896234194802 5705.3590468588845 6160.146107357789 6061.452786455212 6354.779654919001 5986.428192168169 6046.051114022753; 5772.492886937099 4943.190285334487 5659.25645195868 5997.883617362685 5586.603345641539 6047.346286790043 5948.913225541129 6239.035622724144 5906.765740855115 5900.738489057132; 5750.735863638605 4942.790009156972 5613.459798491351 5909.934067327802 5565.085043948465 5946.138873894088 5869.49353617358 6148.189894674795 5798.332684239515 5842.595525007426; 5868.6009953062685 5026.998220050783 5754.675318368121 6056.184485860674 5703.388980275885 6158.403703889616 6040.881085635031 6362.246100701282 5933.0068616872895 5984.929661120093; 5950.721780498657 5078.291187982909 5814.735096475272 6142.06592770076 5758.830656647174 6207.130404099328 6094.5265432258075 6395.522146092235 6021.267191478613 6064.045711771705; 5951.573780682329 5043.171789230551 5796.078144383421 6137.24482354643 5776.62559668557 6258.476619676401 6096.890862432044 6429.954309698812 6058.356439541555 6073.42978163668; 5855.057307143905 5020.4623823389 5747.905318928004 6061.038530371536 5720.649457378574 6131.170929476519 6021.702229086588 6307.639394413847 5963.4663983208375 6006.1207002576775; 5941.485778339684 5071.835617114075 5791.203736699596 6097.839361518416 5764.060692292855 6148.536613855692 6052.216509010984 6370.89240226459 5968.583305997604 6069.425848708205]"
     ]
    }
   ],
   "source": [
    "using LinearAlgebra\n",
    "include(\"ncon.jl\");"
   ]
  },
  {
   "cell_type": "code",
   "execution_count": 2,
   "metadata": {},
   "outputs": [
    {
     "data": {
      "text/plain": [
       "tensordot (generic function with 1 method)"
      ]
     },
     "execution_count": 2,
     "metadata": {},
     "output_type": "execute_result"
    }
   ],
   "source": [
    "\"\"\"\n",
    "doApplyHam(psiIn,hloc,N,usePBC)\n",
    "------------------------\n",
    "by Glen Evenbly (c) for www.tensors.net, (v1.2) - last modified 06/2020\n",
    "------------------------\n",
    "Applies local Hamiltonian (given as sum of nearest neighbor terms 'hloc')\n",
    "to input state 'psiIn'. Number of lattice sites specified as 'N' while\n",
    "'usePBC' determines whether open or periodic boundaries are used.\n",
    "\"\"\"\n",
    "function doApplyHam(psiIn,hloc,N,usePBC)\n",
    "\n",
    "  d = size(hloc,1);\n",
    "  psiOut = zeros(d^N,1);\n",
    "  for k = 1:N-1\n",
    "    # apply local Hamiltonian terms to sites [k,k+1]\n",
    "    cont_inds = [[2],[2]];\n",
    "    psi_temp = tensordot(reshape(hloc,d^2,d^2),\n",
    "      reshape(psiIn,d^(k-1), d^2, d^(N-1-k)),cont_inds);\n",
    "    psiOut = psiOut + reshape(permutedims(psi_temp,[2,1,3]),d^N);\n",
    "  end\n",
    "\n",
    "  if usePBC\n",
    "    # apply periodic term\n",
    "    cont_inds = [[3,4],[3,1]];\n",
    "    psi_temp = tensordot(reshape(hloc,d,d,d,d),\n",
    "      reshape(psiIn,d, d^(N-2), d),cont_inds);\n",
    "    psiOut = psiOut + reshape(permutedims(psi_temp,[2,3,1]),d^N);\n",
    "  end\n",
    "\n",
    "  return psiOut\n",
    "end"
   ]
  },
  {
   "cell_type": "code",
   "execution_count": null,
   "metadata": {},
   "outputs": [],
   "source": [
    "\"\"\"\n",
    "tensordot(A,B,cont_inds):\n",
    "Function for taking the produce of two tensors A and B, designed to mimic the\n",
    "numpy tensordot. Input `cont_inds = [A_axes,B_axes]` where `A_axes` and\n",
    "`B_axes` are vectors describing the indices to be contracted, e.g. set\n",
    "cont_inds = [[2],[1]] to contract the 2nd index of A with the 1st index of B.\n",
    "\"\"\"\n",
    "\n",
    "\"\"\"LET US NOT CARE ABOUT HOW THE CODE WORKS INTERNALLY FOR A MOMENT.\n",
    "LET US JUST CARE ABOUT WHAT THE CODE DOES WHICH IS CONTRACTING THE GIVEN INDICES OF TWO TENSORS\"\"\"\n",
    "\n",
    "function tensordot(A, B, cont_inds)\n",
    "\n",
    "  A_free = deleteat!(collect(1:ndims(A)), sort(cont_inds[1]))\n",
    "  B_free = deleteat!(collect(1:ndims(B)), sort(cont_inds[2]))\n",
    "  A_perm = vcat(A_free, cont_inds[1])\n",
    "  B_perm = vcat(cont_inds[2], B_free)\n",
    "\n",
    "  return reshape(\n",
    "    reshape(\n",
    "      permutedims(A, A_perm),\n",
    "      prod(size(A)[A_free]),\n",
    "      prod(size(A)[cont_inds[1]]),\n",
    "    ) * reshape(\n",
    "      permutedims(B, B_perm),\n",
    "      prod(size(B)[cont_inds[2]]),\n",
    "      prod(size(B)[B_free]),\n",
    "    ),\n",
    "    (size(A)[A_free]..., size(B)[B_free]...),\n",
    "  )\n",
    "end\n",
    "\n"
   ]
  },
  {
   "cell_type": "code",
   "execution_count": 5,
   "metadata": {
    "collapsed": true
   },
   "outputs": [
    {
     "name": "stdout",
     "output_type": "stream",
     "text": [
      "[6368.382870550811 6817.949360110565 6695.8668450740415 6519.985703597504 6368.783576290623 6033.214228895046 6358.516845744462 6054.125712296396 6336.371007705049 7209.672245225955; 6425.534659130287 6811.278669574932 6721.635194639772 6533.051533263355 6437.058945205049 6072.156945054065 6389.783132027015 6042.136681555942 6329.60791572369 7239.280787322804; 6384.156433218923 6838.805731227697 6715.175388731897 6516.4537117502205 6440.296634029251 6078.0484676458545 6403.178063852508 6081.606622189206 6321.158043169292 7220.382500409666; 6561.460247718046 7023.726129093094 6893.816266684133 6678.03489579221 6589.950120334517 6245.741451988153 6547.993446894468 6264.004573286804 6499.573505600168 7420.5271339839355; 6456.43287853153 6877.6567234080285 6753.451973513303 6573.213723491141 6484.562061340033 6087.1605245848705 6453.638963094575 6101.12542136921 6386.445331701938 7319.622225416912; 6379.742377909278 6810.904378694084 6688.060669192163 6473.394621219767 6407.283414553216 6020.383241062179 6385.2584995903335 6059.881662451774 6293.358549594222 7188.474206422561; 6328.144549390242 6761.406618905791 6624.107251422922 6442.745280203626 6333.706548190752 5966.995848789116 6318.6455813877465 6013.178478697963 6274.904320068543 7157.469534992762; 6519.366102854986 6946.577574132169 6827.609808935653 6640.641213892933 6536.424164330897 6155.732708644583 6504.835801859402 6169.660049793893 6470.645196260278 7358.517822711813; 6326.815030496946 6756.105398719219 6651.395195447295 6438.339382256986 6345.2571907021675 5967.733147317334 6339.876057760917 6014.028169747543 6258.145052450815 7164.069756480886; 6455.7928732417995 6900.309343929597 6768.15938552119 6593.724735591858 6494.484664115987 6124.99347184613 6465.6640820698685 6143.326307358386 6435.79772783504 7291.71703702155]"
     ]
    }
   ],
   "source": [
    "\"\"\"\n",
    "mainExactDiag.jl\n",
    "---------------------------------------------------------------------\n",
    "Script file for initializing exact diagonalization using the 'eigs' routine\n",
    "(based on Arpack) for a 1D quantum system\n",
    "\n",
    "by Glen Evenbly (c) for www.tensors.net, (v1.2) - last modified 06/2020\n",
    "\"\"\"\n",
    "\n",
    "using Printf, LinearAlgebra, LinearMaps, Arpack\n",
    "\n",
    "#### Your paths go here\n",
    "include(\"ncon.jl\");\n",
    "include(\"doApplyHam.jl\");\n",
    "\n",
    "##### Simulation parameters\n",
    "model = \"XX\" # select 'XX' or 'ising' models\n",
    "Nsites = 18; # number of lattice sites\n",
    "usePBC = true; # use periodic or open boundaries\n",
    "numval = 1; # number of eigenstates to compute\n",
    "\n",
    "##### Define Hamiltonian (quantum XX model)\n",
    "d = 2; # local dimension\n",
    "sX = [0 1; 1 0]; sY = [0 -im; im 0]; sZ = [1 0; 0 -1]; sI = [1 0; 0 1];\n",
    "if model == \"XX\" # (THERE IS NO Z COMPONENT ACTING ON ANYTHING)\n",
    "    hloc = reshape(real(kron(sX,sX) + kron(sY,sY)),2,2,2,2);\n",
    "    EnExact = -4/sin(pi/Nsites); # for PBC\n",
    "elseif model == \"ising\" # NOT CLEAR HOW THIS IS AN ISING MODEL\n",
    "    hloc = reshape(-kron(sX,sX) + 0.5*kron(sI,sZ) + 0.5*kron(sZ,sI),2,2,2,2);\n",
    "    EnExact = -2/sin(pi/(2*Nsites)); # for PBC\n",
    "end\n",
    ";"
   ]
  },
  {
   "cell_type": "code",
   "execution_count": 10,
   "metadata": {},
   "outputs": [
    {
     "ename": "LoadError",
     "evalue": "UndefVarError: psiIn not defined",
     "output_type": "error",
     "traceback": [
      "UndefVarError: psiIn not defined",
      "",
      "Stacktrace:",
      " [1] top-level scope at In[10]:2",
      " [2] include_string(::Function, ::Module, ::String, ::String) at ./loading.jl:1091"
     ]
    }
   ],
   "source": [
    "##### Recast the `doApplyHam` function as a LinearMap\n",
    "c = doApplyHam(psiIn,hloc,Nsites,usePBC);\n",
    "doApplyHamClosed = LinearMap(psiIn -> doApplyHam(psiIn,hloc,Nsites,usePBC), d^Nsites;\n",
    "  ismutating=false, issymmetric=true, ishermitian=true, isposdef=false)"
   ]
  },
  {
   "cell_type": "code",
   "execution_count": 9,
   "metadata": {},
   "outputs": [
    {
     "data": {
      "text/plain": [
       "((262144, 262144), 262144)"
      ]
     },
     "execution_count": 9,
     "metadata": {},
     "output_type": "execute_result"
    }
   ],
   "source": [
    "size(doApplyHamClosed)"
   ]
  },
  {
   "cell_type": "code",
   "execution_count": null,
   "metadata": {},
   "outputs": [],
   "source": [
    "\n",
    "##### Diagonalize Hamiltonian with eigs\n",
    "diagtime = @elapsed Energy, psi = eigs(doApplyHamClosed; nev = numval,\n",
    "  tol = 1e-12, which=:SR, maxiter = 300);\n",
    "\n",
    "##### Check with exact energy\n",
    "EnErr = Energy[1] - EnExact; # should equal to zero\n",
    "@printf \"NumSites: %d, Time: %d, Energy: %e, EnErr: %e \\n\" Nsites diagtime Energy[1] EnErr"
   ]
  },
  {
   "cell_type": "code",
   "execution_count": 4,
   "metadata": {},
   "outputs": [],
   "source": [
    "# Checking how the tensordot function works\n",
    "A = rand(d,d,d,d); B = rand(d,d,d);"
   ]
  },
  {
   "cell_type": "code",
   "execution_count": 6,
   "metadata": {},
   "outputs": [],
   "source": [
    "tnes_dot = tensordot(A,B,[[1],[2]]);"
   ]
  },
  {
   "cell_type": "code",
   "execution_count": 7,
   "metadata": {},
   "outputs": [
    {
     "data": {
      "text/plain": [
       "(10, 10, 10, 10, 10)"
      ]
     },
     "execution_count": 7,
     "metadata": {},
     "output_type": "execute_result"
    }
   ],
   "source": [
    "size(tnes_dot)"
   ]
  },
  {
   "cell_type": "code",
   "execution_count": 21,
   "metadata": {},
   "outputs": [
    {
     "data": {
      "text/plain": [
       "8"
      ]
     },
     "execution_count": 21,
     "metadata": {},
     "output_type": "execute_result"
    }
   ],
   "source": [
    "size([1,2,3,4,6,9,8,7], 1)"
   ]
  },
  {
   "cell_type": "code",
   "execution_count": 14,
   "metadata": {},
   "outputs": [
    {
     "data": {
      "text/plain": [
       "(4,)"
      ]
     },
     "execution_count": 14,
     "metadata": {},
     "output_type": "execute_result"
    }
   ],
   "source": [
    "size([1,2,3,4])"
   ]
  },
  {
   "cell_type": "code",
   "execution_count": 23,
   "metadata": {},
   "outputs": [
    {
     "data": {
      "text/plain": [
       "3"
      ]
     },
     "execution_count": 23,
     "metadata": {},
     "output_type": "execute_result"
    }
   ],
   "source": [
    "(size([2 4; 6 8; 10 12], 1)) "
   ]
  },
  {
   "cell_type": "code",
   "execution_count": null,
   "metadata": {},
   "outputs": [],
   "source": []
  }
 ],
 "metadata": {
  "kernelspec": {
   "display_name": "Julia 1.5.0",
   "language": "julia",
   "name": "julia-1.5"
  },
  "language_info": {
   "file_extension": ".jl",
   "mimetype": "application/julia",
   "name": "julia",
   "version": "1.5.0"
  }
 },
 "nbformat": 4,
 "nbformat_minor": 2
}
