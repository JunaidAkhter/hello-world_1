{
 "cells": [
  {
   "cell_type": "markdown",
   "metadata": {},
   "source": [
    "# Tutorial 3: Guage Freedom"
   ]
  },
  {
   "cell_type": "markdown",
   "metadata": {},
   "source": [
    "# T3.3: Creating a center of orthogonality"
   ]
  },
  {
   "cell_type": "code",
   "execution_count": 1,
   "metadata": {
    "collapsed": true
   },
   "outputs": [
    {
     "name": "stdout",
     "output_type": "stream",
     "text": [
      "[6151.6222667876345 4850.042960817324 6261.594348538992 5771.5778474892595 5617.054946183367 6040.048660891784 5698.080378485535 5509.522080081138 5421.511763597184 5875.032753233754; 5753.255501055685 4565.929821347633 5851.119968119611 5430.433634193764 5235.748890665384 5672.883492245647 5340.140674104736 5182.116649843504 5053.578931933436 5518.980904606542; 6042.980962248169 4754.654423489408 6116.205641459946 5647.561093328505 5485.643161183798 5902.570568822432 5563.543431994612 5368.527858492338 5278.840837427412 5770.305300236061; 5837.740264612892 4602.625349091237 5963.559749204849 5513.988408442315 5378.592196936004 5786.999519826078 5420.327622170717 5266.018216284652 5166.516580884291 5603.630854998331; 6037.757936324593 4751.822126715003 6108.296644408033 5664.795696633299 5503.2714965174955 5897.987010635677 5565.733561729086 5346.479108040387 5272.008614125013 5752.3221768786925; 6220.097078574446 4924.138437970154 6291.639610872725 5838.732312971178 5614.200573890645 6122.590697889359 5782.388159914865 5570.69532708948 5428.7529060607785 5944.032228709741; 6082.266981013225 4782.644307356482 6110.831330481134 5662.535365935933 5508.332769558848 5877.593440190848 5570.047139924548 5329.521585207658 5294.582738344973 5753.214045801918; 5924.871108137341 4673.5735565754 6010.619773190326 5580.617766968306 5410.115041947959 5801.798083567841 5466.176173378302 5277.060784854734 5197.044580733775 5660.648267209341; 6170.077998630748 4844.184899062565 6202.926381836833 5752.575638245823 5537.134199245459 6015.286553629456 5705.7101245977665 5476.0195628363 5374.1371429066085 5892.7165985063975; 6066.431111249756 4775.073907750978 6131.8177381550195 5676.766942335854 5480.849661865511 5924.037042087913 5583.901331864419 5388.0011499769325 5292.509967824796 5796.758522613431]"
     ]
    }
   ],
   "source": [
    "using LinearAlgebra\n",
    "include(\"ncon.jl\");"
   ]
  },
  {
   "cell_type": "code",
   "execution_count": 25,
   "metadata": {
    "collapsed": true
   },
   "outputs": [
    {
     "data": {
      "text/plain": [
       "5.953712606226274e-16"
      ]
     },
     "execution_count": 25,
     "metadata": {},
     "output_type": "execute_result"
    }
   ],
   "source": [
    "##### Ex.3.3(c): Creating a center of orthogonality by 'pulling through'\n",
    "# define tensors\n",
    "d = 3;\n",
    "A = rand(d,d,d,d); B = rand(d,d,d);\n",
    "C = rand(d,d,d); D = rand(d,d,d);\n",
    "E = rand(d,d,d); F = rand(d,d,d);\n",
    "G = rand(d,d,d);\n",
    "# iterate QR decomps\n",
    "DQ, DR = qr(reshape(D,d^2,d)); DQ = reshape(Matrix(DQ),d,d,d);\n",
    "EQ, ER = qr(reshape(E,d^2,d)); EQ = reshape(Matrix(EQ),d,d,d);\n",
    "\n",
    "Btilda = ncon(Any[B,DR,ER],Any[[1,2,-3],[-1,1],[-2,2]]) # I THINK THE INDICES ARE NAMED WRONGLY\n",
    "# NOTE:Note that we use a convention such tensor indices are ordered from left-to-right along \n",
    "# the bottom then left-to-right along the top. \n",
    "#Btilda = ncon(Any[B,DR,ER],Any[[1,-3,2],[-1,1],[-2,2]]) \n",
    "BQ, BR = qr(reshape(Btilda,d^2,d)); BQ = reshape(Matrix(BQ),d,d,d);\n",
    "FQ, FR = qr(reshape(F,d^2,d)); FQ = reshape(Matrix(FQ),d,d,d);\n",
    "GQ, GR = qr(reshape(G,d^2,d)); GQ = reshape(Matrix(GQ),d,d,d);\n",
    "\n",
    "\n",
    "Ctilda = ncon(Any[C,GR],Any[[1,-2,-3],[-1,1]]); # SAME ISSUE HERE ABOUT THE INDICES\n",
    "CQ, CR = qr(reshape(Ctilda,d^2,d)); CQ = reshape(Matrix(CQ),d,d,d);\n",
    "\n",
    "Aprime = ncon(Any[A,BR,FR,CR],Any[[1,-2,2,3],[-1,1],[-3,2],[-4,3]]);\n",
    "# new network is formed from tensors: {Aprime,BQ,CQ,DQ,EQ,FQ,GQ}.\n",
    "\n",
    "# check both networks evaluate to the same tensor\n",
    "connectlist = Any[[3,-5,4,5],[1,2,3],[6,-10,5],[-1,-2,1],[-3,-4,2],[-6,-7,4],[-8,-9,6]];\n",
    "H0 = ncon(Any[A,B,C,D,E,F,G],connectlist)[:];\n",
    "H1 = ncon(Any[Aprime,BQ,CQ,DQ,EQ,FQ,GQ],connectlist)[:];\n",
    "dH = norm(H0-H1)/norm(H0)"
   ]
  },
  {
   "cell_type": "markdown",
   "metadata": {},
   "source": [
    "# Setting a center of orthogonality method 2: 'Direct Orthogonalization'"
   ]
  },
  {
   "cell_type": "markdown",
   "metadata": {},
   "source": [
    "Here we describe a method for setting a tensor $$\\textbf{A}$$ within a network T as a center of orthogonality directly using a single eigen-decomposition for each branch."
   ]
  },
  {
   "cell_type": "code",
   "execution_count": 53,
   "metadata": {},
   "outputs": [],
   "source": [
    "##### Ex.3.3(c): Creating a center of orthogonality with 'direct orthogonalization'\n",
    "# define tensors\n",
    "d = 3;\n",
    "A = rand(d,d,d,d); B = rand(d,d,d);\n",
    "C = rand(d,d,d); D = rand(d,d,d);\n",
    "E = rand(d,d,d); F = rand(d,d,d);\n",
    "G = rand(d,d,d);"
   ]
  },
  {
   "cell_type": "code",
   "execution_count": 54,
   "metadata": {},
   "outputs": [],
   "source": [
    "# compute density matrices and their principle square roots\n",
    "rho1 = ncon(Any[B,D,E,B,D,E],Any[[5,6,-2],[1,2,5],[3,4,6],[7,8,-1],[1,2,7],[3,4,8]]);\n",
    "rho2 = ncon(Any[F,F],Any[[1,2,-2],[1,2,-1]]);\n",
    "rho3 = ncon(Any[C,G,C,G],Any[[3,5,-2],[1,2,3],[4,5,-1],[1,2,4]]);"
   ]
  },
  {
   "cell_type": "code",
   "execution_count": 55,
   "metadata": {},
   "outputs": [
    {
     "data": {
      "text/plain": [
       "3×3 Array{Float64,2}:\n",
       "  96.1129  126.807  103.455\n",
       " 126.807   171.935  139.971\n",
       " 103.455   139.971  114.73"
      ]
     },
     "execution_count": 55,
     "metadata": {},
     "output_type": "execute_result"
    }
   ],
   "source": [
    "rho1"
   ]
  },
  {
   "cell_type": "code",
   "execution_count": 56,
   "metadata": {},
   "outputs": [
    {
     "data": {
      "text/plain": [
       "Eigen{Float64,Float64,Array{Float64,2},Array{Float64,1}}\n",
       "values:\n",
       "3-element Array{Float64,1}:\n",
       "   0.4680259911687352\n",
       "   1.9052180957271323\n",
       " 380.4047237058798\n",
       "vectors:\n",
       "3×3 Array{Float64,2}:\n",
       "  0.0243943   0.866317  0.498899\n",
       " -0.642946   -0.36855   0.671409\n",
       "  0.765523   -0.337144  0.548005"
      ]
     },
     "execution_count": 56,
     "metadata": {},
     "output_type": "execute_result"
    }
   ],
   "source": [
    "eigen(rho1)"
   ]
  },
  {
   "cell_type": "code",
   "execution_count": 57,
   "metadata": {},
   "outputs": [],
   "source": [
    "d1, u1 = eigen(rho1); sq_d1 = sqrt.(abs.(d1));\n",
    "d2, u2 = eigen(rho2); sq_d2 = sqrt.(abs.(d2));\n",
    "d3, u3 = eigen(rho3); sq_d3 = sqrt.(abs.(d3));"
   ]
  },
  {
   "cell_type": "code",
   "execution_count": 58,
   "metadata": {},
   "outputs": [
    {
     "data": {
      "text/plain": [
       "3-element Array{Float64,1}:\n",
       "   0.4680259911687352\n",
       "   1.9052180957271323\n",
       " 380.4047237058798"
      ]
     },
     "execution_count": 58,
     "metadata": {},
     "output_type": "execute_result"
    }
   ],
   "source": [
    "d1"
   ]
  },
  {
   "cell_type": "code",
   "execution_count": 59,
   "metadata": {},
   "outputs": [
    {
     "data": {
      "text/plain": [
       "3-element Array{Float64,1}:\n",
       "   0.4680259911687352\n",
       "   1.9052180957271323\n",
       " 380.4047237058798"
      ]
     },
     "execution_count": 59,
     "metadata": {},
     "output_type": "execute_result"
    }
   ],
   "source": [
    "abs.(d1)"
   ]
  },
  {
   "cell_type": "code",
   "execution_count": 60,
   "metadata": {},
   "outputs": [
    {
     "data": {
      "text/plain": [
       "3-element Array{Float64,1}:\n",
       "  0.6841242512648819\n",
       "  1.3802963796689218\n",
       " 19.503966871020875"
      ]
     },
     "execution_count": 60,
     "metadata": {},
     "output_type": "execute_result"
    }
   ],
   "source": [
    "sqrt.(abs.(d1))"
   ]
  },
  {
   "cell_type": "code",
   "execution_count": 62,
   "metadata": {},
   "outputs": [],
   "source": [
    "X1 = u1*diagm(0 => sq_d1)*u1'; X1inv = u1*diagm(0 => (1 ./sq_d1))*u1';\n",
    "X2 = u2*diagm(0 => sq_d2)*u2'; X2inv = u2*diagm(0 => (1 ./sq_d2))*u2';\n",
    "X3 = u3*diagm(0 => sq_d3)*u3'; X3inv = u3*diagm(0 => (1 ./sq_d3))*u3';"
   ]
  },
  {
   "cell_type": "code",
   "execution_count": 64,
   "metadata": {},
   "outputs": [],
   "source": [
    "# execute gauge changes\n",
    "Aprime = ncon(Any[A,X1,X2,X3],Any[[1,-2,2,3],[-1,1],[-3,2],[-4,3]]);\n",
    "Bprime = ncon(Any[B,X1inv],Any[[-1,-2,1],[1,-3]]);\n",
    "Fprime = ncon(Any[F,X2inv],Any[[-1,-2,1],[1,-3]]);\n",
    "Cprime = ncon(Any[C,X3inv],Any[[-1,-2,1],[1,-3]]);\n",
    "# new network is formed from tensors: {Aprime,Bprime,Cprime,D,E,Fprime,G}"
   ]
  },
  {
   "cell_type": "code",
   "execution_count": 65,
   "metadata": {},
   "outputs": [
    {
     "data": {
      "text/plain": [
       "8.166291274409351e-16"
      ]
     },
     "execution_count": 65,
     "metadata": {},
     "output_type": "execute_result"
    }
   ],
   "source": [
    "# check both networks evaluate to the same tensor\n",
    "connectlist = Any[[3,-5,4,5],[1,2,3],[6,-10,5],[-1,-2,1],[-3,-4,2],[-6,-7,4],[-8,-9,6]];\n",
    "H0 = ncon(Any[A,B,C,D,E,F,G],connectlist)[:];\n",
    "H1 = ncon(Any[Aprime,Bprime,Cprime,D,E,Fprime,G],connectlist)[:];\n",
    "dH = norm(H0-H1) / norm(H0)"
   ]
  },
  {
   "cell_type": "markdown",
   "metadata": {},
   "source": [
    "# Problem Set 3:"
   ]
  },
  {
   "cell_type": "code",
   "execution_count": 95,
   "metadata": {},
   "outputs": [],
   "source": [
    "# First we define the tensor A according to the definition in the lecture \n",
    "d = 12 # dimension of an indices\n",
    "\n",
    "A = zeros(d,d,d) # initializing the matrix A\n",
    "for ni = 1:d\n",
    "    for nj = 1:d\n",
    "        for nk = 1:d\n",
    "            A[ni,nj,nk]=sqrt(ni + 2*nj + 3*nk);\n",
    "        end\n",
    "    end\n",
    "end\n",
    "B = C = A; # "
   ]
  },
  {
   "cell_type": "code",
   "execution_count": 96,
   "metadata": {},
   "outputs": [
    {
     "data": {
      "text/plain": [
       "1.7331274432963647e7"
      ]
     },
     "execution_count": 96,
     "metadata": {},
     "output_type": "execute_result"
    }
   ],
   "source": [
    "# a). Contracting the network {A,B,C} to form the H tensor explicitly\n",
    "H = ncon(Any[A,B,C], Any[[-1,-2,1], [1,-3,2],[2,-4,-5]]);\n",
    "N = norm(H)"
   ]
  },
  {
   "cell_type": "code",
   "execution_count": 97,
   "metadata": {},
   "outputs": [
    {
     "data": {
      "text/plain": [
       "9.458269336625596e-7"
      ]
     },
     "execution_count": 97,
     "metadata": {},
     "output_type": "execute_result"
    }
   ],
   "source": [
    "# b). THIS CODE IS NOT CORRECT (CONCEPT OD OFTAINING L AND R)\n",
    "# Although it is not completely clear to me but I think that this problem can\n",
    "# be solved by first doing the SVD of matrix C, doing the necessary truncation\n",
    "# and obtaining the C' matrix and then finally fo the LR decomposition of this \n",
    "# matrix. Let us go with it and then see if we did it correctly\n",
    "F = svd(reshape(C,d, d^2));\n",
    "\n",
    "chi = 2; # given rank where we are expected to do the truncation\n",
    "\n",
    "C_prime = F.U[:,1:chi]*diagm(0 => F.S[1:chi])*F.Vt[1:chi,:];\n",
    "\n",
    "C_prime = reshape(C_prime, d, d, d);\n",
    "\n",
    "# now we want to do the QR decomposition\n",
    "Q, R = qr(reshape(C_prime, d, d^2)); R = reshape(R, d, d, d);\n",
    "\n",
    "# contracting the teensors again to obtain H1\n",
    "H1 = ncon(Any[A,B,Q,R], Any[[-1,-2,1],[1,-3,2],[2,3],[3,-4,-5]]);\n",
    "\n",
    "epsilon = norm(H-H1)/norm(H)"
   ]
  },
  {
   "cell_type": "code",
   "execution_count": 108,
   "metadata": {},
   "outputs": [],
   "source": [
    "# c)\n",
    "# We want to calculate the tensor C' through pulling through approach\n",
    "# We start with iterative QR decomposition\n",
    "AQ, AR = qr(reshape(A, d^2, d)) ; A_prime = reshape(Matrix(AQ), d, d, d);\n",
    "\n",
    "\n",
    "# Now we want to absorb AR in B\n",
    "B_tilde = AR*reshape(B, d, d^2) ; B_tilde = reshape(B_tilde,d,d,d);\n",
    "\n",
    "# Now we will fo the QR decomposition of B_prime\n",
    "BQ, BR = qr(reshape(B_tilde, d^2, d)) ; B_prime = reshape(Matrix(BQ), d,d,d);\n",
    "\n",
    "# Finally calculating C' be contracting BR into C\n",
    "C_prime = reshape(BR*reshape(C, d, d^2),d,d,d);"
   ]
  },
  {
   "cell_type": "code",
   "execution_count": 99,
   "metadata": {},
   "outputs": [],
   "source": [
    "H_prime = ncon(Any[A_prime,B_prime,C_prime], Any[[-1,-2,1], [1,-3,2],[2,-4,-5]]);\n"
   ]
  },
  {
   "cell_type": "code",
   "execution_count": 100,
   "metadata": {},
   "outputs": [
    {
     "data": {
      "text/plain": [
       "2.0011836846420527e-8"
      ]
     },
     "execution_count": 100,
     "metadata": {},
     "output_type": "execute_result"
    }
   ],
   "source": [
    "norm(H-H_prime)"
   ]
  },
  {
   "cell_type": "code",
   "execution_count": 18,
   "metadata": {},
   "outputs": [
    {
     "data": {
      "text/plain": [
       "((144, 144), (144, 144))"
      ]
     },
     "execution_count": 18,
     "metadata": {},
     "output_type": "execute_result"
    }
   ],
   "source": [
    "size(AQ), size(BQ)"
   ]
  },
  {
   "cell_type": "code",
   "execution_count": 19,
   "metadata": {},
   "outputs": [
    {
     "data": {
      "text/plain": [
       "(144, 144)"
      ]
     },
     "execution_count": 19,
     "metadata": {},
     "output_type": "execute_result"
    }
   ],
   "source": [
    "size(AQ)\n",
    "\n"
   ]
  },
  {
   "cell_type": "code",
   "execution_count": 20,
   "metadata": {},
   "outputs": [
    {
     "data": {
      "text/plain": [
       "(12, 12, 12)"
      ]
     },
     "execution_count": 20,
     "metadata": {},
     "output_type": "execute_result"
    }
   ],
   "source": [
    "size(A)"
   ]
  },
  {
   "cell_type": "code",
   "execution_count": 29,
   "metadata": {},
   "outputs": [
    {
     "data": {
      "text/plain": [
       "(144, 12)"
      ]
     },
     "execution_count": 29,
     "metadata": {},
     "output_type": "execute_result"
    }
   ],
   "source": [
    "m = Matrix(AQ);\n",
    "size(m)"
   ]
  },
  {
   "cell_type": "markdown",
   "metadata": {},
   "source": [
    "# Solutions from the tutorial"
   ]
  },
  {
   "cell_type": "code",
   "execution_count": 102,
   "metadata": {},
   "outputs": [],
   "source": [
    "d = 12;\n",
    "A = zeros(d,d,d);\n",
    "for ni = 1:d\n",
    "    for nj = 1:d\n",
    "        for nk = 1:d\n",
    "            A[ni,nj,nk] = sqrt(ni + 2*nj + 3*nk);\n",
    "        end\n",
    "    end\n",
    "end\n",
    "B = A;\n",
    "C = A;"
   ]
  },
  {
   "cell_type": "code",
   "execution_count": 103,
   "metadata": {},
   "outputs": [
    {
     "data": {
      "text/plain": [
       "1.7331274432963647e7"
      ]
     },
     "execution_count": 103,
     "metadata": {},
     "output_type": "execute_result"
    }
   ],
   "source": [
    "# (a) Evaluate Network\n",
    "H = ncon(Any[A,B,C],Any[[-1,-2,1],[1,-3,2],[2,-4,-5]]);\n",
    "nH = norm(H)"
   ]
  },
  {
   "cell_type": "code",
   "execution_count": 104,
   "metadata": {},
   "outputs": [
    {
     "data": {
      "text/plain": [
       "9.458269336703137e-7"
      ]
     },
     "execution_count": 104,
     "metadata": {},
     "output_type": "execute_result"
    }
   ],
   "source": [
    "# (b) truncated SVD\n",
    "um,sm,vm = svd(reshape(C,d,d^2));\n",
    "chi = 2;\n",
    "CL = um[:,1:chi]*diagm(0 => sqrt.(sm[1:chi]));\n",
    "CR = reshape(diagm(0 => sqrt.(sm[1:chi]))*(vm[:,1:chi]'),chi,d,d);\n",
    "H1 = ncon(Any[A,B,CL,CR],Any[[-1,-2,1],[1,-3,2],[2,3],[3,-4,-5]]);\n",
    "err1 = norm(H - H1) / nH"
   ]
  },
  {
   "cell_type": "code",
   "execution_count": 105,
   "metadata": {},
   "outputs": [],
   "source": [
    "# (c) create center of orthogonality at C\n",
    "Qm, Rm = qr(reshape(A,d^2,d));\n",
    "Ap = reshape(Matrix(Qm),d,d,d);\n",
    "Qm, Rm = qr(reshape(ncon(Any[Rm,B],Any[[-1,1],[1,-2,-3]]),d^2,d));\n",
    "\n",
    "# ONE CAN ALSO USE THE FOLLOWING MATRIX MULTIPLICATION INSTEAD OF NCON\n",
    "# FUNCTION\n",
    "#Bt = Rm*reshape(B, d, d^2); \n",
    "#Qm, Rm = qr(reshape(Bt, d^2, d)); \n",
    "\n",
    "Bp = reshape(Matrix(Qm),d,d,d);\n",
    "Cp = ncon(Any[Rm,C],Any[[-1,1],[1,-2,-3]]);\n",
    "\n",
    "#Cp = reshape(Rm*reshape(C, d, d^2), d,d,d);\n",
    "\n",
    "# check result\n",
    "Hp = ncon(Any[Ap,Bp,Cp],Any[[-1,-2,1],[1,-3,2],[2,-4,-5]]);\n",
    "errp = norm(H - Hp) / nH # should be zero"
   ]
  },
  {
   "cell_type": "code",
   "execution_count": null,
   "metadata": {},
   "outputs": [],
   "source": [
    "# (d) \n"
   ]
  }
 ],
 "metadata": {
  "kernelspec": {
   "display_name": "Julia 1.5.0",
   "language": "julia",
   "name": "julia-1.5"
  },
  "language_info": {
   "file_extension": ".jl",
   "mimetype": "application/julia",
   "name": "julia",
   "version": "1.5.0"
  }
 },
 "nbformat": 4,
 "nbformat_minor": 2
}
