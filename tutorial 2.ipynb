{
 "cells": [
  {
   "cell_type": "markdown",
   "metadata": {},
   "source": [
    "# Tutorial 2"
   ]
  },
  {
   "cell_type": "markdown",
   "metadata": {},
   "source": [
    "# Singular Value Decompositions "
   ]
  },
  {
   "cell_type": "code",
   "execution_count": 1,
   "metadata": {},
   "outputs": [
    {
     "name": "stdout",
     "output_type": "stream",
     "text": [
      "[6036.299461742217 5831.2411674179775 6211.44757239012 5830.446283165199 6259.965821457549 5531.518561855543 5866.661050740854 5814.0875312081625 5884.580138980194 5736.126405909172; 6187.11854040581 5970.572316322988 6350.706442006354 5994.549550045416 6392.532962870642 5709.738971720053 5981.454932873208 5966.890613730083 6047.372703145649 5849.648054638534; 6435.95885635992 6162.141275422778 6540.616261099312 6132.032330546675 6622.26546638562 5873.752275565159 6164.501374292725 6154.651680302539 6178.310601712952 6037.507365418794; 6161.651114219817 5910.125378938314 6336.801469923162 5943.315134091921 6383.166390539326 5633.751560781261 5961.134622492926 5911.370192511744 5994.661200066202 5878.589607049191; 6025.62795627736 5816.084270774457 6170.925017680887 5832.536927547814 6248.660253254265 5584.778366724179 5814.197653990971 5831.936317419286 5900.920153609995 5706.973907046273; 6183.871588545116 5987.97112616282 6331.03010248963 5975.794736156926 6429.982232716645 5663.141247317446 6016.105256383496 5953.698690952703 6023.022232433547 5873.93797895649; 6171.472372538122 5969.862440280395 6315.664451912466 5927.096019353682 6386.078179339953 5650.952549415643 5983.09270587648 5920.725234028912 6004.576230666272 5818.598677204922; 6131.224603925652 5930.17088993013 6264.335068501827 5914.425780427303 6402.2687617412475 5641.586421303284 5922.5243185591535 5930.80582310703 6012.896113904749 5842.476654379846; 6300.937468196502 6045.271730870202 6429.395378314421 6047.623481428604 6540.961665140011 5756.210129843368 6097.759337855596 6091.0179967583545 6084.398643199334 5971.703777467803; 6006.402524769964 5791.995127361817 6145.324451505687 5776.9438137578645 6216.160877397475 5512.771482552736 5798.412202201487 5798.938668248099 5815.628871237487 5688.4538214902805]"
     ]
    }
   ],
   "source": [
    "##### Ex2.2(a): SVD of matrix\n",
    "using LinearAlgebra\n",
    "include(\"ncon.jl\");\n",
    "d1 = 10; d2 = 6;\n",
    "A = rand(d1,d2);\n",
    "F = svd(A); # does the singlar decompostion of A and gives matrices, U, Vt and singular values S.\n",
    "# check result\n",
    "Af = F.U*diagm(0 => F.S)*F.Vt;\n",
    "dA = norm(Af[:]-A[:]);"
   ]
  },
  {
   "cell_type": "code",
   "execution_count": 2,
   "metadata": {
    "collapsed": true
   },
   "outputs": [
    {
     "data": {
      "text/plain": [
       "((10, 6), (6, 6), (6,), 3.0735800000230223e-15)"
      ]
     },
     "execution_count": 2,
     "metadata": {},
     "output_type": "execute_result"
    }
   ],
   "source": [
    "size(F.U), size(F.Vt), size(F.S), dA"
   ]
  },
  {
   "cell_type": "code",
   "execution_count": 18,
   "metadata": {},
   "outputs": [
    {
     "data": {
      "text/plain": [
       "4.3474538680081404e-14"
      ]
     },
     "execution_count": 18,
     "metadata": {},
     "output_type": "execute_result"
    }
   ],
   "source": [
    "##### Ex2.2(b): SVD of tensor\n",
    "d = 10; A = rand(d,d,d);\n",
    "F = svd(reshape(A,d^2,d));\n",
    "\n",
    "# checking the shapes of the arrays (not part of the original program)\n",
    "a = size(F.U)\n",
    "b = size(F.S)\n",
    "c = size(F.Vt)\n",
    "U = reshape(F.U,d,d,d);\n",
    "# check result\n",
    "Af = ncon(Any[U,diagm(0 => F.S),F.Vt],\n",
    "    Any[[-1,-2,1],[1,2],[2,-3]]);\n",
    "dA = norm(Af[:]-A[:])"
   ]
  },
  {
   "cell_type": "code",
   "execution_count": 20,
   "metadata": {},
   "outputs": [
    {
     "data": {
      "text/plain": [
       "((100, 10), (10,), (10, 10))"
      ]
     },
     "execution_count": 20,
     "metadata": {},
     "output_type": "execute_result"
    }
   ],
   "source": [
    "a, b, c"
   ]
  },
  {
   "cell_type": "code",
   "execution_count": 4,
   "metadata": {},
   "outputs": [],
   "source": [
    "##### Initialize unitaries and isometries\n",
    "d1 = 10; d2 = 6;\n",
    "\n",
    "# d1-by-d1 random unitary matrix U\n",
    "U = svd(rand(d1,d1)).U;\n",
    "\n",
    "# d1-by-d2 random isometric matrix W\n",
    "W = svd(rand(d1,d2)).U;"
   ]
  },
  {
   "cell_type": "code",
   "execution_count": 5,
   "metadata": {},
   "outputs": [
    {
     "data": {
      "text/plain": [
       "((10, 10), (10, 6))"
      ]
     },
     "execution_count": 5,
     "metadata": {},
     "output_type": "execute_result"
    }
   ],
   "source": [
    "size(U), size(W)"
   ]
  },
  {
   "cell_type": "code",
   "execution_count": 6,
   "metadata": {
    "collapsed": true
   },
   "outputs": [
    {
     "data": {
      "text/plain": [
       "10-element Array{Float64,1}:\n",
       " 0.9999999999999994\n",
       " 0.9999999999999991\n",
       " 0.9999999999999998\n",
       " 0.9999999999999996\n",
       " 0.9999999999999994\n",
       " 0.9999999999999997\n",
       " 0.9999999999999997\n",
       " 0.9999999999999992\n",
       " 0.9999999999999996\n",
       " 0.9999999999999997"
      ]
     },
     "execution_count": 6,
     "metadata": {},
     "output_type": "execute_result"
    }
   ],
   "source": [
    "diag(U*U')"
   ]
  },
  {
   "cell_type": "code",
   "execution_count": 7,
   "metadata": {},
   "outputs": [
    {
     "data": {
      "text/plain": [
       "1.1443916996305594e-16"
      ]
     },
     "execution_count": 7,
     "metadata": {},
     "output_type": "execute_result"
    }
   ],
   "source": [
    "##### Ex2.2(c): spect. decomp. of matrix\n",
    "d = 2; A = rand(d,d);\n",
    "H = 0.5*(A+A'); #random Hermitian\n",
    "F = eigen(H);\n",
    "# check result\n",
    "Hf = F.vectors*diagm(0 => F.values)*F.vectors'\n",
    "dH = norm(Hf[:]-H[:])"
   ]
  },
  {
   "cell_type": "markdown",
   "metadata": {},
   "source": [
    "# Spectral decomposition of a tensor "
   ]
  },
  {
   "cell_type": "code",
   "execution_count": 55,
   "metadata": {},
   "outputs": [
    {
     "data": {
      "text/plain": [
       "9.173601550346555e-15"
      ]
     },
     "execution_count": 55,
     "metadata": {},
     "output_type": "execute_result"
    }
   ],
   "source": [
    "#  THIS FUNCTION IS NOT SO CLEAR TO ME BECAUSE ONE DOESN'T GET U DAGGER (HERMETIAN U)\n",
    "# RATHER ONE GETS VECTORS AND IT IS NOT CLEAR HOW TO OBTAIN HERMETIAN IN A MULTIDIMEN-\n",
    "# SIONAL ARRAY\n",
    "\n",
    "##### Ex2.2(d): spect. decomp. of tensor\n",
    "d = 3; A = rand(d,d,d,d);\n",
    "H = 0.5*(A + permutedims(A,[3,4,1,2])); # WHAT DOES THIS PERMUTAION DEPEND ON?\n",
    "F = eigen(reshape(H,d^2,d^2));\n",
    "U = reshape(F.vectors,d,d,d^2);\n",
    "U_ = reshape(F.vectors, d^2, d, d)\n",
    "D = diagm(0 => F.values);\n",
    "# check result\n",
    "Hf = ncon(Any[U,D,U],\n",
    "    Any[[-1,-2,1],[1,2],[-3,-4,2]]);\n",
    "#Hf = ncon(Any[U_,D,U],\n",
    "#    Any[[1,-1,-2],[1,2],[-3,-4,2]]);\n",
    "dH = norm(Hf[:]-H[:])"
   ]
  },
  {
   "cell_type": "code",
   "execution_count": 16,
   "metadata": {},
   "outputs": [
    {
     "data": {
      "text/plain": [
       "((9, 9), (9,), (9, 9))"
      ]
     },
     "execution_count": 16,
     "metadata": {},
     "output_type": "execute_result"
    }
   ],
   "source": [
    "size(F.vectors), size(F.values), size(F.vectors')"
   ]
  },
  {
   "cell_type": "code",
   "execution_count": 28,
   "metadata": {},
   "outputs": [],
   "source": [
    "#size(U') # THIS GIVES AN ERROR BECAUSE ONE NEEDS TO USE PRMUTEDIMS FOR HIGHER DIMENSIONS"
   ]
  },
  {
   "cell_type": "markdown",
   "metadata": {},
   "source": [
    "# QR decomposition (useful in concept of guage in tensors)"
   ]
  },
  {
   "cell_type": "code",
   "execution_count": 15,
   "metadata": {},
   "outputs": [
    {
     "data": {
      "text/plain": [
       "1.8687279961009696e-15"
      ]
     },
     "execution_count": 15,
     "metadata": {},
     "output_type": "execute_result"
    }
   ],
   "source": [
    "##### Ex2.2(f): QR decomp of matrix\n",
    "d1 = 10; d2 = 6;\n",
    "A = rand(d1,d2);\n",
    "F = qr(A);\n",
    "# check result\n",
    "Af = F.Q*F.R;\n",
    "dA = norm(Af[:]-A[:])"
   ]
  },
  {
   "cell_type": "code",
   "execution_count": 16,
   "metadata": {},
   "outputs": [
    {
     "data": {
      "text/plain": [
       "1.1916210198987908e-14"
      ]
     },
     "execution_count": 16,
     "metadata": {},
     "output_type": "execute_result"
    }
   ],
   "source": [
    "##### Ex2.2(g): QR decomp of tensor\n",
    "d = 10;\n",
    "A = rand(d,d,d);\n",
    "F = qr(reshape(A,d^2,d));\n",
    "Q = reshape(Array(F.Q),d,d,d);\n",
    "# check result\n",
    "Af = ncon(Any[Q,F.R],Any[[-1,-2,1],[1,-3]]);\n",
    "dA = norm(Af[:]-A[:])"
   ]
  },
  {
   "cell_type": "markdown",
   "metadata": {},
   "source": [
    "# Frobenious norm"
   ]
  },
  {
   "cell_type": "code",
   "execution_count": 6,
   "metadata": {},
   "outputs": [],
   "source": [
    "##### Ex2.3(c)\n",
    "d = 10;\n",
    "A = rand(10,10,10,10,10);\n",
    "# frobenus norm\n",
    "frobA0 = sqrt(ncon(Any[A,conj(A)],Any[collect(1:ndims(A)),collect(1:ndims(A))]));\n",
    "# equivalent frobenus norm\n",
    "frobA1 = sqrt(sum(abs.(A[:]).^2));\n",
    "# also equivalent frobenus norm\n",
    "frobA2 = norm(A);"
   ]
  },
  {
   "cell_type": "code",
   "execution_count": 7,
   "metadata": {},
   "outputs": [
    {
     "data": {
      "text/plain": [
       "(0.0, 182.59926937948913, 182.59926937948913, 182.59926937948913)"
      ]
     },
     "execution_count": 7,
     "metadata": {},
     "output_type": "execute_result"
    }
   ],
   "source": [
    "norm(frobA1-frobA2), frobA1, frobA2, frobA0"
   ]
  },
  {
   "cell_type": "code",
   "execution_count": 12,
   "metadata": {},
   "outputs": [
    {
     "data": {
      "text/plain": [
       "5-element Array{Int64,1}:\n",
       " 1\n",
       " 2\n",
       " 3\n",
       " 4\n",
       " 5"
      ]
     },
     "execution_count": 12,
     "metadata": {},
     "output_type": "execute_result"
    }
   ],
   "source": [
    "collect(1:ndims(A))"
   ]
  },
  {
   "cell_type": "markdown",
   "metadata": {},
   "source": [
    "# T2.4: Restricted rand tensor approximation"
   ]
  },
  {
   "cell_type": "code",
   "execution_count": 35,
   "metadata": {},
   "outputs": [],
   "source": [
    "##### Ex2.4(a): take SVD\n",
    "d = 10; A = rand(d,d,d,d,d);\n",
    "F = svd(reshape(A,d^3,d^2));\n",
    "U = reshape(F.U,d,d,d,d^2);\n",
    "Vh = reshape(F.Vt,d^2,d,d);"
   ]
  },
  {
   "cell_type": "code",
   "execution_count": 36,
   "metadata": {},
   "outputs": [
    {
     "data": {
      "text/plain": [
       "((10, 10, 10, 100), (100,), (100, 10, 10))"
      ]
     },
     "execution_count": 36,
     "metadata": {},
     "output_type": "execute_result"
    }
   ],
   "source": [
    "size(U),size(F.S), size(Vh) "
   ]
  },
  {
   "cell_type": "code",
   "execution_count": 45,
   "metadata": {},
   "outputs": [
    {
     "data": {
      "text/plain": [
       "0.469148268473553"
      ]
     },
     "execution_count": 45,
     "metadata": {},
     "output_type": "execute_result"
    }
   ],
   "source": [
    "##### truncate SVD\n",
    "chi = 8;\n",
    "Vhtilda = Vh[1:chi,:,:];\n",
    "Stilda = diagm(0 => F.S[1:chi]);\n",
    "Utilda = U[:,:,:,1:chi];\n",
    "B = ncon(Any[Utilda,Stilda,Vhtilda],Any[[-1,-2,-3,1],[1,2],[2,-4,-5]]);\n",
    "##### compare\n",
    "epsAB = norm(A-B) / norm(A)"
   ]
  },
  {
   "cell_type": "code",
   "execution_count": 47,
   "metadata": {},
   "outputs": [
    {
     "data": {
      "text/plain": [
       "0.5307673130357585"
      ]
     },
     "execution_count": 47,
     "metadata": {},
     "output_type": "execute_result"
    }
   ],
   "source": [
    "C = ncon(Any[Vhtilda, Stilda, Utilda], Any[[1, -1, -2], [1, 2], [-3, -4, -5, 2]]);\n",
    "epsAC = norm(A-C)/norm(A)"
   ]
  },
  {
   "cell_type": "code",
   "execution_count": 16,
   "metadata": {},
   "outputs": [
    {
     "data": {
      "text/plain": [
       "(100, 10, 10)"
      ]
     },
     "execution_count": 16,
     "metadata": {},
     "output_type": "execute_result"
    }
   ],
   "source": [
    "size(Vh)"
   ]
  },
  {
   "cell_type": "code",
   "execution_count": 18,
   "metadata": {},
   "outputs": [
    {
     "data": {
      "text/plain": [
       "((8, 10, 10), (8, 8), (10, 10, 10, 8))"
      ]
     },
     "execution_count": 18,
     "metadata": {},
     "output_type": "execute_result"
    }
   ],
   "source": [
    "size(Vhtilda), size(Stilda), size(Utilda)"
   ]
  },
  {
   "cell_type": "code",
   "execution_count": 19,
   "metadata": {},
   "outputs": [
    {
     "data": {
      "text/plain": [
       "0.46775653009324497"
      ]
     },
     "execution_count": 19,
     "metadata": {},
     "output_type": "execute_result"
    }
   ],
   "source": [
    "epsAB"
   ]
  },
  {
   "cell_type": "markdown",
   "metadata": {},
   "source": [
    "# Effective Rank of a Tensor "
   ]
  },
  {
   "cell_type": "code",
   "execution_count": 75,
   "metadata": {},
   "outputs": [
    {
     "name": "stdout",
     "output_type": "stream",
     "text": [
      "31.591137997862624"
     ]
    },
    {
     "data": {
      "text/plain": [
       "0.04040991568438646"
      ]
     },
     "execution_count": 75,
     "metadata": {},
     "output_type": "execute_result"
    }
   ],
   "source": [
    "##### Ex2.4(d): effective rank\n",
    "# Generate toeplitz matrix (each diagonal is the decending order is a constant)\n",
    "d = 500;\n",
    "A = diagm( 1 => ones(d-1)) +\n",
    "    diagm(-1 => ones(d-1));\n",
    "A = A / norm(A) #normalize\n",
    "# compute effective rank to accuracy 'deltaval'\n",
    "deltaval = 1e-2;\n",
    "F = svd(A);\n",
    "r_delta = sum(F.S .> deltaval)\n",
    "eps_err = sqrt.(sum(F.S[r_delta+1:end] .^2))"
   ]
  },
  {
   "cell_type": "code",
   "execution_count": 89,
   "metadata": {},
   "outputs": [
    {
     "data": {
      "text/plain": [
       "5.000000000000001"
      ]
     },
     "execution_count": 89,
     "metadata": {},
     "output_type": "execute_result"
    }
   ],
   "source": [
    "B = diagm( 0 => ones(5)) \n",
    "N = (norm(B))^2\n",
    "#B = B/norm(B)\n",
    "#print(B)\n",
    "#probability_matrix = B^2"
   ]
  },
  {
   "cell_type": "markdown",
   "metadata": {},
   "source": [
    "# Exercise sheet 2"
   ]
  },
  {
   "cell_type": "code",
   "execution_count": 56,
   "metadata": {},
   "outputs": [
    {
     "name": "stdout",
     "output_type": "stream",
     "text": [
      "46.22542710476335"
     ]
    },
    {
     "data": {
      "text/plain": [
       "1.0"
      ]
     },
     "execution_count": 56,
     "metadata": {},
     "output_type": "execute_result"
    }
   ],
   "source": [
    "# b).\n",
    "d1 = 10\n",
    "d2 = 8\n",
    "A = rand(d1, d1, d2, d2);\n",
    "print(norm(A))\n",
    "N = norm(A)\n",
    "A = A/N; # Normalized tensor\n",
    "norm(A)"
   ]
  },
  {
   "cell_type": "code",
   "execution_count": 57,
   "metadata": {},
   "outputs": [
    {
     "data": {
      "text/plain": [
       "0.9999999999999999"
      ]
     },
     "execution_count": 57,
     "metadata": {},
     "output_type": "execute_result"
    }
   ],
   "source": [
    "#c)\n",
    "# SVD\n",
    "F = svd(reshape(A, d1^2, d2^2));\n",
    "s_values = F.S\n",
    "#s_values_squared = (F.S)^2;\n",
    "# We need to calculate the square root of the sum of squares of the singular values\n",
    "# The sum of square of singular values is the dot product \n",
    "value = sqrt(s_values'*s_values)"
   ]
  },
  {
   "cell_type": "code",
   "execution_count": 60,
   "metadata": {},
   "outputs": [
    {
     "data": {
      "text/plain": [
       "4"
      ]
     },
     "execution_count": 60,
     "metadata": {},
     "output_type": "execute_result"
    }
   ],
   "source": [
    "#d).\n",
    "# compute effective rank to accuracy 'deltaval'\n",
    "deltaval = 1e-1;\n",
    "r_delta = sum(s_values .> deltaval)"
   ]
  },
  {
   "cell_type": "code",
   "execution_count": 61,
   "metadata": {},
   "outputs": [
    {
     "data": {
      "text/plain": [
       "0.45795473314559476"
      ]
     },
     "execution_count": 61,
     "metadata": {},
     "output_type": "execute_result"
    }
   ],
   "source": [
    "#e).\n",
    "eps_err = sqrt.(sum(s_values[r_delta+1:end] .^2))"
   ]
  },
  {
   "cell_type": "markdown",
   "metadata": {},
   "source": [
    "f) Construct the optimal restricted rank approximation to A' via the truncated SVD. Compute the truncation error ε of this approximation and check that your answer is consistent with part (e).\n"
   ]
  },
  {
   "cell_type": "code",
   "execution_count": 62,
   "metadata": {},
   "outputs": [],
   "source": [
    "# To calculate the truncation error we need to calculate the matrix which results from the truncation\n",
    "# from the matrices obtained from the SVD.\n",
    "U = F.U;\n",
    "S = diagm(F.S);\n",
    "Vt = F.Vt;"
   ]
  },
  {
   "cell_type": "code",
   "execution_count": 63,
   "metadata": {},
   "outputs": [
    {
     "data": {
      "text/plain": [
       "((100, 64), (64, 64), (64, 64))"
      ]
     },
     "execution_count": 63,
     "metadata": {},
     "output_type": "execute_result"
    }
   ],
   "source": [
    "size(U), size(Vt), size(Vt)"
   ]
  },
  {
   "cell_type": "code",
   "execution_count": 64,
   "metadata": {},
   "outputs": [],
   "source": [
    "# Truncating\n",
    "U = reshape(U, d1, d1, d2^2);\n",
    "Vt = reshape(Vt, d2^2, d2, d2)\n",
    "U_tr = U[:, :, 1:r_delta];\n",
    "Vt_tr = Vt[1:r_delta, :, :];\n",
    "S_tr = diagm(F.S[1:r_delta]);"
   ]
  },
  {
   "cell_type": "code",
   "execution_count": 65,
   "metadata": {},
   "outputs": [
    {
     "data": {
      "text/plain": [
       "((10, 10, 4), (4, 4), (4, 8, 8))"
      ]
     },
     "execution_count": 65,
     "metadata": {},
     "output_type": "execute_result"
    }
   ],
   "source": [
    "size(U_tr), size(S_tr), size(Vt_tr)"
   ]
  },
  {
   "cell_type": "code",
   "execution_count": 66,
   "metadata": {},
   "outputs": [
    {
     "data": {
      "text/plain": [
       "(10, 10, 8, 8)"
      ]
     },
     "execution_count": 66,
     "metadata": {},
     "output_type": "execute_result"
    }
   ],
   "source": [
    "# Now we need to do the contracrtion of these three matrices \n",
    "B = ncon(Any[U_tr,S_tr,Vt_tr],Any[[-1,-2,1],[1,2],[2,-3,-4]]);\n",
    "size(B)"
   ]
  },
  {
   "cell_type": "code",
   "execution_count": 68,
   "metadata": {},
   "outputs": [
    {
     "data": {
      "text/plain": [
       "0.26690321780323184"
      ]
     },
     "execution_count": 68,
     "metadata": {},
     "output_type": "execute_result"
    }
   ],
   "source": [
    "err_1 = sqrt.(sum((A_normalized[:] - B[:]) .^2))\n"
   ]
  },
  {
   "cell_type": "markdown",
   "metadata": {},
   "source": [
    "# Official Solutions "
   ]
  },
  {
   "cell_type": "code",
   "execution_count": 2,
   "metadata": {
    "collapsed": true
   },
   "outputs": [
    {
     "name": "stdout",
     "output_type": "stream",
     "text": [
      "[5537.219441723589 6125.9660516838585 5992.12678101195 6155.093471129699 5690.469005823615 6118.669305972651 5866.980067763507 5245.801124075184 5606.884651338412 5739.135128769934; 5532.169678981884 6107.099486767685 5990.731933027478 6174.934754779376 5681.54514627241 6076.9931182824685 5837.662847236939 5235.557971881938 5567.862676359368 5706.560716885889; 5602.276715392664 6212.876877208657 6012.100344283798 6223.489754454915 5760.67323100333 6170.358604399735 5932.275697430724 5299.937111140773 5690.164224033445 5813.373624605823; 5560.013969005389 6132.263251464878 6103.234064241658 6161.723797204347 5697.658890339639 6131.218145593122 5884.621431921146 5295.692455300436 5591.544527628927 5723.714816840177; 5656.023325191478 6274.878895604363 6057.697431271672 6267.990426298381 5803.71954552955 6206.325896402198 5961.736538660834 5324.522920381241 5709.315622840999 5825.971115386716; 5478.166502272311 6045.0461214178085 5916.493321754746 6089.5453138755065 5642.089184139102 5997.615952772802 5801.989785712884 5141.914600332189 5554.529709176747 5681.479894986359; 5687.642803465871 6293.523007958974 6169.773730164928 6313.167513107622 5851.429358997143 6222.07039795732 6015.524996989211 5366.278420580847 5735.800928389022 5855.930941351941; 5563.79845700439 6137.345357089933 6066.807346196089 6192.036672086243 5701.668716080901 6115.924462250861 5876.858452117806 5279.38453206463 5588.476314707652 5714.601647882879; 5396.954981053427 5978.387182270532 5877.811020469153 6029.389552153565 5556.92526323412 5929.75822904948 5715.91430738739 5120.07856294367 5458.633528052808 5594.435213992579; 5528.320872572721 6199.0481877917155 6000.608034195315 6139.02756343293 5720.8866105066745 6110.489534025084 5873.700580305306 5253.069010957707 5633.550079132976 5734.692388270058]"
     ]
    }
   ],
   "source": [
    "##### Pb.2(a): solutions\n",
    "using LinearAlgebra\n",
    "# ensure 'ncon.jl' in working dir\n",
    "include(\"ncon.jl\");\n",
    "\n",
    "##### Define matrix A\n",
    "#THE FIRST MISTAKE WHICH I DID IS THAT I DID NOT CONSIDER THAT \n",
    "# THE TENSOR NEEDS TO BE CREATED IN A MANNER AS DEFINED IN THE\n",
    "# EXERCISE SHEET.\n",
    "d1 = 10;\n",
    "d2 = 8;\n",
    "A = zeros(d1,d1,d2,d2);\n",
    "for ni = 1:d1\n",
    "    for nj = 1:d1\n",
    "        for nk = 1:d2\n",
    "            for nl = 1:d2\n",
    "                A[ni,nj,nk,nl] = sqrt(ni + 2*nj + 3*nk + 4*nl);\n",
    "            end\n",
    "        end\n",
    "    end\n",
    "end\n"
   ]
  },
  {
   "cell_type": "code",
   "execution_count": 4,
   "metadata": {},
   "outputs": [
    {
     "name": "stdout",
     "output_type": "stream",
     "text": [
      "554.2562584220408"
     ]
    }
   ],
   "source": [
    "# b).\n",
    "N = norm(A)\n",
    "print(N)\n",
    "A_normalized = A/N; # Normalized tensor"
   ]
  },
  {
   "cell_type": "code",
   "execution_count": 5,
   "metadata": {},
   "outputs": [
    {
     "data": {
      "text/plain": [
       "1.0"
      ]
     },
     "execution_count": 5,
     "metadata": {},
     "output_type": "execute_result"
    }
   ],
   "source": [
    "#c)\n",
    "# reshaping \n",
    "# SVD\n",
    "F = svd(reshape(A_normalized, d1^2, d2^2));\n",
    "s_values = F.S\n",
    "#s_values_squared = (F.S)^2;\n",
    "# We need to calculate the square root of the sum of squares of the singular values\n",
    "# The sum of square of singular values is the dot product \n",
    "value = sqrt(s_values'*s_values)\n",
    "\n",
    "# THE SQUARE ROOT OF THE SUM OF THE SINGULAR VLUES SQUARED IS EQUAL TO THE TENSOR NORM"
   ]
  },
  {
   "cell_type": "code",
   "execution_count": 6,
   "metadata": {},
   "outputs": [
    {
     "data": {
      "text/plain": [
       "3"
      ]
     },
     "execution_count": 6,
     "metadata": {},
     "output_type": "execute_result"
    }
   ],
   "source": [
    "#d).\n",
    "# compute effective rank to accuracy 'deltaval'\n",
    "deltaval = 1e-4;\n",
    "r_delta = sum(s_values .> deltaval)"
   ]
  },
  {
   "cell_type": "code",
   "execution_count": 7,
   "metadata": {},
   "outputs": [
    {
     "data": {
      "text/plain": [
       "1.0484615133223257e-5"
      ]
     },
     "execution_count": 7,
     "metadata": {},
     "output_type": "execute_result"
    }
   ],
   "source": [
    "#e).\n",
    "err_0 = sqrt.(sum(s_values[r_delta+1:end] .^2))"
   ]
  },
  {
   "cell_type": "code",
   "execution_count": 8,
   "metadata": {},
   "outputs": [
    {
     "data": {
      "text/plain": [
       "2-element Array{Float64,1}:\n",
       " 1.0484615133223257e-5\n",
       " 1.048461513321334e-5"
      ]
     },
     "execution_count": 8,
     "metadata": {},
     "output_type": "execute_result"
    }
   ],
   "source": [
    "##### optimal restricted rank approximation\n",
    "B = F.U[:,1:r_delta]*diagm(0 => F.S[1:r_delta])*F.Vt[1:r_delta,:];\n",
    "B = reshape(B,d1,d1,d2,d2);\n",
    "err_1 = sqrt.(sum((A_normalized[:] - B[:]) .^2));\n",
    "# compare\n",
    "[err_0,err_1]"
   ]
  },
  {
   "cell_type": "code",
   "execution_count": 9,
   "metadata": {},
   "outputs": [
    {
     "data": {
      "text/plain": [
       "2-element Array{Float64,1}:\n",
       " 1.048461513321334e-5\n",
       " 1.048461513321334e-5"
      ]
     },
     "execution_count": 9,
     "metadata": {},
     "output_type": "execute_result"
    }
   ],
   "source": [
    "# contracting by ncon function\n",
    "\n",
    "U_tr = reshape(F.U, d1, d1, d2^2)[:, :, 1:r_delta];\n",
    "Vt_tr = reshape(F.Vt, d2^2, d2, d2)[1:r_delta, :, :];\n",
    "S_tr = diagm(F.S[1:r_delta]);\n",
    "B = ncon(Any[U_tr,S_tr,Vt_tr],Any[[-1,-2,1],[1,2],[2,-3,-4]]);\n",
    "\n",
    "# using ncon in a different order\n",
    "#B = ncon(Any[Vt_tr,S_tr,U_tr],Any[[1,-1,-2],[1,2],[-3,-4,2]]); THIS DOES NOT GIVE SENSIBLE RESULTS\n",
    "\n",
    "err_ncon = sqrt.(sum((A_normalized[:] - B[:]) .^2));\n",
    "\n",
    "# compare\n",
    "[err_ncon,err_1]"
   ]
  },
  {
   "cell_type": "code",
   "execution_count": null,
   "metadata": {},
   "outputs": [],
   "source": []
  }
 ],
 "metadata": {
  "kernelspec": {
   "display_name": "Julia 1.5.0",
   "language": "julia",
   "name": "julia-1.5"
  },
  "language_info": {
   "file_extension": ".jl",
   "mimetype": "application/julia",
   "name": "julia",
   "version": "1.5.0"
  }
 },
 "nbformat": 4,
 "nbformat_minor": 2
}
